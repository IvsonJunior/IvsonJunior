{
  "nbformat": 4,
  "nbformat_minor": 0,
  "metadata": {
    "colab": {
      "provenance": [],
      "authorship_tag": "ABX9TyModCh/5BkxmHo10BmE2QqX",
      "include_colab_link": true
    },
    "kernelspec": {
      "name": "python3",
      "display_name": "Python 3"
    },
    "language_info": {
      "name": "python"
    }
  },
  "cells": [
    {
      "cell_type": "markdown",
      "metadata": {
        "id": "view-in-github",
        "colab_type": "text"
      },
      "source": [
        "<a href=\"https://colab.research.google.com/github/IvsonJunior/IvsonJunior/blob/main/python_parametros.ipynb\" target=\"_parent\"><img src=\"https://colab.research.google.com/assets/colab-badge.svg\" alt=\"Open In Colab\"/></a>"
      ]
    },
    {
      "cell_type": "code",
      "execution_count": null,
      "metadata": {
        "id": "TAGzzUrGAFCN"
      },
      "outputs": [],
      "source": [
        "nome = 'Ivson'"
      ]
    },
    {
      "cell_type": "code",
      "source": [
        "idade = 42"
      ],
      "metadata": {
        "id": "1glpK0mPANqU"
      },
      "execution_count": null,
      "outputs": []
    },
    {
      "cell_type": "code",
      "source": [
        "print(f'O nome é {nome} e a idade é {idade} anos')"
      ],
      "metadata": {
        "colab": {
          "base_uri": "https://localhost:8080/"
        },
        "id": "qF-o-JfZASgW",
        "outputId": "6d647af7-50de-42ee-81a0-1daa6ad9e500"
      },
      "execution_count": null,
      "outputs": [
        {
          "output_type": "stream",
          "name": "stdout",
          "text": [
            "O nome é Ivson e a idade é 42 anos\n"
          ]
        }
      ]
    },
    {
      "cell_type": "code",
      "source": [
        "def saudacao():\n",
        "  nome = input('Qual é o seu nome?')\n",
        "  print(f'Olá {nome}')"
      ],
      "metadata": {
        "id": "bOvZAvdjAgdK"
      },
      "execution_count": null,
      "outputs": []
    },
    {
      "cell_type": "code",
      "source": [
        "saudacao()"
      ],
      "metadata": {
        "colab": {
          "base_uri": "https://localhost:8080/"
        },
        "id": "NGPfVxNhAyew",
        "outputId": "9e87910f-7e63-44a5-83ed-fcd3badf8d9f"
      },
      "execution_count": null,
      "outputs": [
        {
          "output_type": "stream",
          "name": "stdout",
          "text": [
            "Qual é o seu nome?Luis Felipe\n",
            "Olá Luis Felipe\n"
          ]
        }
      ]
    },
    {
      "cell_type": "markdown",
      "source": [
        "# **Parâmetros** "
      ],
      "metadata": {
        "id": "cYqojJaqZBFZ"
      }
    },
    {
      "cell_type": "code",
      "source": [
        "nome = 'Adriana'"
      ],
      "metadata": {
        "id": "MvhU4RbiY0Ow"
      },
      "execution_count": 4,
      "outputs": []
    },
    {
      "cell_type": "code",
      "source": [
        "def saudacao_com_parametros(nome_da_pessoa):\n",
        "      print(f'Olá {nome_da_pessoa}')"
      ],
      "metadata": {
        "id": "x3SZzfoHZT3R"
      },
      "execution_count": 5,
      "outputs": []
    },
    {
      "cell_type": "code",
      "source": [
        "saudacao_com_parametros(nome)"
      ],
      "metadata": {
        "colab": {
          "base_uri": "https://localhost:8080/"
        },
        "id": "RIsp4UCbZsCx",
        "outputId": "c78fee59-6cd3-4b11-e39f-1b8e00b5a970"
      },
      "execution_count": 6,
      "outputs": [
        {
          "output_type": "stream",
          "name": "stdout",
          "text": [
            "Olá Adriana\n"
          ]
        }
      ]
    }
  ]
}